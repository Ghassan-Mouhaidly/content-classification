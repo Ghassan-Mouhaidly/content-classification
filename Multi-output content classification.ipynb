{
 "cells": [
  {
   "cell_type": "code",
   "execution_count": 1,
   "id": "ethical-designation",
   "metadata": {},
   "outputs": [],
   "source": [
    "from tensorflow.keras.optimizers import Adam\n",
    "from tensorflow import keras\n",
    "from model import MultiOutputModel"
   ]
  },
  {
   "cell_type": "code",
   "execution_count": 2,
   "id": "approximate-yugoslavia",
   "metadata": {},
   "outputs": [],
   "source": [
    "img_width = 224\n",
    "img_height = 224\n",
    "\n",
    "outputs = {0: {'type': 'genre', 'outNeurons': 3, 'outActivation': 'sigmoid', 'loss': 'categorical_crossentropy', 'weight': 1, 'metric': 'accuracy'}, \n",
    "           1: {'type': 'rating', 'outNeurons': 1, 'outActivation': 'linear', 'loss': 'mse', 'weight': 1, 'metric': 'mae'}}"
   ]
  },
  {
   "cell_type": "code",
   "execution_count": 3,
   "id": "assumed-ranch",
   "metadata": {},
   "outputs": [],
   "source": [
    "content_model = MultiOutputModel(img_width, img_height, 3, outputs)\n",
    "content_model.build_model(\"InceptionV3\")\n",
    "# keras.utils.plot_model(content_model.model, show_shapes=True)"
   ]
  },
  {
   "cell_type": "code",
   "execution_count": 4,
   "id": "august-classification",
   "metadata": {},
   "outputs": [],
   "source": [
    "init_lr = 1e-4\n",
    "epochs = 100\n",
    "opt = Adam(lr=init_lr, decay=init_lr/epochs)"
   ]
  },
  {
   "cell_type": "code",
   "execution_count": 5,
   "id": "parliamentary-television",
   "metadata": {},
   "outputs": [],
   "source": [
    "content_model.compile_model(opt)"
   ]
  }
 ],
 "metadata": {
  "kernelspec": {
   "display_name": "Python 3",
   "language": "python",
   "name": "python3"
  },
  "language_info": {
   "codemirror_mode": {
    "name": "ipython",
    "version": 3
   },
   "file_extension": ".py",
   "mimetype": "text/x-python",
   "name": "python",
   "nbconvert_exporter": "python",
   "pygments_lexer": "ipython3",
   "version": "3.8.5"
  }
 },
 "nbformat": 4,
 "nbformat_minor": 5
}
