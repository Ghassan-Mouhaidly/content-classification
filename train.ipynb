{
 "cells": [
  {
   "cell_type": "code",
   "execution_count": 1,
   "id": "assumed-patrick",
   "metadata": {},
   "outputs": [],
   "source": [
    "import os\n",
    "import importlib\n",
    "\n",
    "from tensorflow.keras.optimizers import Adam\n",
    "from tensorflow import keras\n",
    "from model.architecture import MultiOutputModel"
   ]
  },
  {
   "cell_type": "code",
   "execution_count": 6,
   "id": "aging-choice",
   "metadata": {},
   "outputs": [
    {
     "name": "stdout",
     "output_type": "stream",
     "text": [
      "CLASSES:\n",
      "  BRANCH_1: ['Comedy', 'Drama', 'Action', 'Documentary', 'Crime', 'Animation', 'Horror', 'Adventure']\n",
      "  BRANCH_2: ['Year']\n",
      "HYPERPARAMS:\n",
      "  EPOCHS: 100\n",
      "  LR: 0.0001\n",
      "  TEST_SPLIT: 0.7\n",
      "IMAGE:\n",
      "  RESOLUTION: (224, 224, 3)\n",
      "MODEL:\n",
      "  BACKBONE: InceptionV3\n",
      "  STRUCTURE: [{0: {'type': 'genre', 'outNeurons': 3, 'outActivation': 'sigmoid', 'loss': 'categorical_crossentropy', 'weight': 1, 'metric': 'accuracy'}, 1: {'type': 'rating', 'outNeurons': 1, 'outActivation': 'linear', 'loss': 'mse', 'weight': 1, 'metric': 'mae'}}]\n"
     ]
    }
   ],
   "source": [
    "from cfgs.content_classification_v1 import get_cfg\n",
    "\n",
    "cfgs = get_cfg()\n",
    "print(cfgs)"
   ]
  },
  {
   "cell_type": "code",
   "execution_count": 4,
   "id": "working-cursor",
   "metadata": {},
   "outputs": [],
   "source": [
    "structure = cfgs.MODEL.STRUCTURE[0]\n",
    "content_model = MultiOutputModel(*cfgs.IMAGE.RESOLUTION, structure)\n",
    "content_model.build_model(\"InceptionV3\")\n",
    "# keras.utils.plot_model(content_model.model, show_shapes=True)"
   ]
  },
  {
   "cell_type": "code",
   "execution_count": 5,
   "id": "valued-reliance",
   "metadata": {},
   "outputs": [],
   "source": [
    "init_lr = 1e-4\n",
    "epochs = 100\n",
    "opt = Adam(lr=init_lr, decay=init_lr/epochs)"
   ]
  },
  {
   "cell_type": "code",
   "execution_count": 5,
   "id": "assigned-influence",
   "metadata": {},
   "outputs": [],
   "source": [
    "content_model.compile_model(opt)"
   ]
  }
 ],
 "metadata": {
  "kernelspec": {
   "display_name": "Python 3",
   "language": "python",
   "name": "python3"
  },
  "language_info": {
   "codemirror_mode": {
    "name": "ipython",
    "version": 3
   },
   "file_extension": ".py",
   "mimetype": "text/x-python",
   "name": "python",
   "nbconvert_exporter": "python",
   "pygments_lexer": "ipython3",
   "version": "3.8.5"
  }
 },
 "nbformat": 4,
 "nbformat_minor": 5
}
