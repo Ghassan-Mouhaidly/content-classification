{
 "cells": [
  {
   "cell_type": "markdown",
   "id": "monetary-spanking",
   "metadata": {},
   "source": [
    "## Load configurations"
   ]
  },
  {
   "cell_type": "code",
   "execution_count": 1,
   "id": "aging-choice",
   "metadata": {},
   "outputs": [
    {
     "name": "stdout",
     "output_type": "stream",
     "text": [
      "\n",
      " CLASSES: [{'Genre': {0: 'Comedy', 1: 'Drama', 2: 'Action', 3: 'Documentary', 4: 'Crime', 5: 'Animation', 6: 'Horror', 7: 'Adventure'}, 'Rating': {0: 'value'}, 'Year': {0: 'value'}}]\n",
      "HYPERPARAMS:\n",
      "  EPOCHS: 100\n",
      "  LR: 0.0001\n",
      "  TEST_SPLIT: 0.8\n",
      "  VAL_SPLIT: 0.8\n",
      "IMAGE:\n",
      "  RESOLUTION: (224, 224, 3)\n",
      "MODEL:\n",
      "  BACKBONE: InceptionV3\n",
      "  STRUCTURE: [{0: {'type': 'Genre', 'outNeurons': 3, 'outActivation': 'sigmoid', 'loss': 'categorical_crossentropy', 'weight': 1, 'metric': 'accuracy'}, 1: {'type': 'Rating', 'outNeurons': 1, 'outActivation': 'linear', 'loss': 'mse', 'weight': 1, 'metric': 'mae'}, 2: {'type': 'Year', 'outNeurons': 1, 'outActivation': 'linear', 'loss': 'mse', 'weight': 1, 'metric': 'mae'}}] \n",
      "\n"
     ]
    }
   ],
   "source": [
    "from cfgs.content_classification_v1 import get_cfg\n",
    "\n",
    "cfgs = get_cfg()\n",
    "print('\\n', cfgs, '\\n')"
   ]
  },
  {
   "cell_type": "code",
   "execution_count": 2,
   "id": "local-siemens",
   "metadata": {},
   "outputs": [],
   "source": [
    "dataset_dict = cfgs.CLASSES[0]\n",
    "dataset_dict['Genre_alias'] = dict((g, i) for i, g in dataset_dict['Genre'].items())"
   ]
  },
  {
   "cell_type": "markdown",
   "id": "attempted-samuel",
   "metadata": {},
   "source": [
    "## Load data and initialize generator"
   ]
  },
  {
   "cell_type": "code",
   "execution_count": 3,
   "id": "supported-sterling",
   "metadata": {},
   "outputs": [],
   "source": [
    "import pandas as pd\n",
    "from data_processing.data_generator import DataGenerator"
   ]
  },
  {
   "cell_type": "code",
   "execution_count": 4,
   "id": "eastern-scheduling",
   "metadata": {},
   "outputs": [],
   "source": [
    "df = pd.read_pickle(\"/home/robotics/content-classification/data_processing/balanced_data.pkl\")"
   ]
  },
  {
   "cell_type": "code",
   "execution_count": 5,
   "id": "artificial-intermediate",
   "metadata": {
    "scrolled": true
   },
   "outputs": [
    {
     "data": {
      "text/html": [
       "<div>\n",
       "<style scoped>\n",
       "    .dataframe tbody tr th:only-of-type {\n",
       "        vertical-align: middle;\n",
       "    }\n",
       "\n",
       "    .dataframe tbody tr th {\n",
       "        vertical-align: top;\n",
       "    }\n",
       "\n",
       "    .dataframe thead th {\n",
       "        text-align: right;\n",
       "    }\n",
       "</style>\n",
       "<table border=\"1\" class=\"dataframe\">\n",
       "  <thead>\n",
       "    <tr style=\"text-align: right;\">\n",
       "      <th></th>\n",
       "      <th>Index</th>\n",
       "      <th>Name</th>\n",
       "      <th>Year</th>\n",
       "      <th>Genre</th>\n",
       "      <th>Rating</th>\n",
       "      <th>Poster_path</th>\n",
       "    </tr>\n",
       "  </thead>\n",
       "  <tbody>\n",
       "    <tr>\n",
       "      <th>0</th>\n",
       "      <td>tt0110901</td>\n",
       "      <td>Project Shadowchaser II</td>\n",
       "      <td>1995</td>\n",
       "      <td>2</td>\n",
       "      <td>4.0</td>\n",
       "      <td>/home/robotics/Documents/data/Posters/1995/tt0...</td>\n",
       "    </tr>\n",
       "    <tr>\n",
       "      <th>1</th>\n",
       "      <td>tt0365265</td>\n",
       "      <td>Ginger Snaps Back: The Beginning</td>\n",
       "      <td>2004</td>\n",
       "      <td>1</td>\n",
       "      <td>5.9</td>\n",
       "      <td>/home/robotics/Documents/data/Posters/2004/tt0...</td>\n",
       "    </tr>\n",
       "    <tr>\n",
       "      <th>2</th>\n",
       "      <td>tt0244992</td>\n",
       "      <td>Barrela: Escola de Crimes</td>\n",
       "      <td>1990</td>\n",
       "      <td>1</td>\n",
       "      <td>6.5</td>\n",
       "      <td>/home/robotics/Documents/data/Posters/1990/tt0...</td>\n",
       "    </tr>\n",
       "    <tr>\n",
       "      <th>3</th>\n",
       "      <td>tt1648188</td>\n",
       "      <td>Sharunas Bartas: An Army of One</td>\n",
       "      <td>2010</td>\n",
       "      <td>3</td>\n",
       "      <td>6.5</td>\n",
       "      <td>/home/robotics/Documents/data/Posters/2010/tt1...</td>\n",
       "    </tr>\n",
       "    <tr>\n",
       "      <th>4</th>\n",
       "      <td>tt1935737</td>\n",
       "      <td>Aquatic Language</td>\n",
       "      <td>2002</td>\n",
       "      <td>5</td>\n",
       "      <td>6.3</td>\n",
       "      <td>/home/robotics/Documents/data/Posters/2002/tt1...</td>\n",
       "    </tr>\n",
       "  </tbody>\n",
       "</table>\n",
       "</div>"
      ],
      "text/plain": [
       "       Index                              Name  Year  Genre  Rating  \\\n",
       "0  tt0110901           Project Shadowchaser II  1995      2     4.0   \n",
       "1  tt0365265  Ginger Snaps Back: The Beginning  2004      1     5.9   \n",
       "2  tt0244992         Barrela: Escola de Crimes  1990      1     6.5   \n",
       "3  tt1648188   Sharunas Bartas: An Army of One  2010      3     6.5   \n",
       "4  tt1935737                  Aquatic Language  2002      5     6.3   \n",
       "\n",
       "                                         Poster_path  \n",
       "0  /home/robotics/Documents/data/Posters/1995/tt0...  \n",
       "1  /home/robotics/Documents/data/Posters/2004/tt0...  \n",
       "2  /home/robotics/Documents/data/Posters/1990/tt0...  \n",
       "3  /home/robotics/Documents/data/Posters/2010/tt1...  \n",
       "4  /home/robotics/Documents/data/Posters/2002/tt1...  "
      ]
     },
     "execution_count": 5,
     "metadata": {},
     "output_type": "execute_result"
    }
   ],
   "source": [
    "data_generator = DataGenerator(df, dataset_dict, cfgs.HYPERPARAMS.TEST_SPLIT, cfgs.HYPERPARAMS.VAL_SPLIT, cfgs.IMAGE.RESOLUTION)\n",
    "data_generator.df.head()"
   ]
  },
  {
   "cell_type": "code",
   "execution_count": 10,
   "id": "passing-prediction",
   "metadata": {},
   "outputs": [],
   "source": [
    "train_idx, valid_idx, test_idx = data_generator.split_dataset() "
   ]
  },
  {
   "cell_type": "markdown",
   "id": "built-credit",
   "metadata": {},
   "source": [
    "## Build and compile model"
   ]
  },
  {
   "cell_type": "code",
   "execution_count": 7,
   "id": "unusual-boost",
   "metadata": {},
   "outputs": [],
   "source": [
    "from tensorflow.keras.optimizers import Adam\n",
    "from tensorflow import keras\n",
    "from model.architecture import MultiOutputModel"
   ]
  },
  {
   "cell_type": "code",
   "execution_count": 8,
   "id": "working-cursor",
   "metadata": {},
   "outputs": [],
   "source": [
    "structure = cfgs.MODEL.STRUCTURE[0]\n",
    "content_model = MultiOutputModel(*cfgs.IMAGE.RESOLUTION, structure)\n",
    "content_model.build_model(\"InceptionV3\")\n",
    "# keras.utils.plot_model(content_model.model, show_shapes=True)"
   ]
  },
  {
   "cell_type": "code",
   "execution_count": 9,
   "id": "assigned-influence",
   "metadata": {},
   "outputs": [
    {
     "ename": "NameError",
     "evalue": "name 'HYPERPARAMS' is not defined",
     "output_type": "error",
     "traceback": [
      "\u001b[0;31m---------------------------------------------------------------------------\u001b[0m",
      "\u001b[0;31mNameError\u001b[0m                                 Traceback (most recent call last)",
      "\u001b[0;32m<ipython-input-9-598a97327b9c>\u001b[0m in \u001b[0;36m<module>\u001b[0;34m\u001b[0m\n\u001b[0;32m----> 1\u001b[0;31m \u001b[0mopt\u001b[0m \u001b[0;34m=\u001b[0m \u001b[0mAdam\u001b[0m\u001b[0;34m(\u001b[0m\u001b[0mlr\u001b[0m\u001b[0;34m=\u001b[0m\u001b[0mHYPERPARAMS\u001b[0m\u001b[0;34m.\u001b[0m\u001b[0mLR\u001b[0m\u001b[0;34m,\u001b[0m \u001b[0mdecay\u001b[0m\u001b[0;34m=\u001b[0m\u001b[0mHYPERPARAMS\u001b[0m\u001b[0;34m.\u001b[0m\u001b[0mLR\u001b[0m\u001b[0;34m/\u001b[0m\u001b[0mHYPERPARAMS\u001b[0m\u001b[0;34m.\u001b[0m\u001b[0mEPOCHS\u001b[0m\u001b[0;34m)\u001b[0m\u001b[0;34m\u001b[0m\u001b[0;34m\u001b[0m\u001b[0m\n\u001b[0m\u001b[1;32m      2\u001b[0m \u001b[0mcontent_model\u001b[0m\u001b[0;34m.\u001b[0m\u001b[0mcompile_model\u001b[0m\u001b[0;34m(\u001b[0m\u001b[0mopt\u001b[0m\u001b[0;34m)\u001b[0m\u001b[0;34m\u001b[0m\u001b[0;34m\u001b[0m\u001b[0m\n",
      "\u001b[0;31mNameError\u001b[0m: name 'HYPERPARAMS' is not defined"
     ]
    }
   ],
   "source": [
    "opt = Adam(lr=HYPERPARAMS.LR, decay=HYPERPARAMS.LR/HYPERPARAMS.EPOCHS)\n",
    "content_model.compile_model(opt)"
   ]
  },
  {
   "cell_type": "code",
   "execution_count": null,
   "id": "concerned-tower",
   "metadata": {},
   "outputs": [],
   "source": []
  }
 ],
 "metadata": {
  "kernelspec": {
   "display_name": "Python 3",
   "language": "python",
   "name": "python3"
  },
  "language_info": {
   "codemirror_mode": {
    "name": "ipython",
    "version": 3
   },
   "file_extension": ".py",
   "mimetype": "text/x-python",
   "name": "python",
   "nbconvert_exporter": "python",
   "pygments_lexer": "ipython3",
   "version": "3.8.5"
  }
 },
 "nbformat": 4,
 "nbformat_minor": 5
}
