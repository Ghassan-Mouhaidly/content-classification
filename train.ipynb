{
 "cells": [
  {
   "cell_type": "markdown",
   "id": "devoted-chrome",
   "metadata": {},
   "source": [
    "## Load configurations"
   ]
  },
  {
   "cell_type": "code",
   "execution_count": null,
   "id": "aging-choice",
   "metadata": {},
   "outputs": [],
   "source": [
    "from cfgs.content_classification_1_output import get_cfg\n",
    "\n",
    "cfgs = get_cfg()\n",
    "print('\\n', cfgs, '\\n')"
   ]
  },
  {
   "cell_type": "code",
   "execution_count": null,
   "id": "indoor-stuff",
   "metadata": {},
   "outputs": [],
   "source": [
    "dataset_dict = cfgs.CLASSES[0]\n",
    "dataset_dict['Genre_alias'] = dict((g, i) for i, g in dataset_dict['Genre'].items())"
   ]
  },
  {
   "cell_type": "markdown",
   "id": "lesbian-liquid",
   "metadata": {},
   "source": [
    "## Load data and initialize generator"
   ]
  },
  {
   "cell_type": "code",
   "execution_count": null,
   "id": "differential-accordance",
   "metadata": {},
   "outputs": [],
   "source": [
    "import pandas as pd\n",
    "from data_processing.data_generator import DataGenerator\n",
    "from sklearn.preprocessing import StandardScaler"
   ]
  },
  {
   "cell_type": "code",
   "execution_count": null,
   "id": "romance-vacation",
   "metadata": {},
   "outputs": [],
   "source": [
    "df = pd.read_pickle(\"/home/robotics/content-classification/data_processing/balanced_data.pkl\")"
   ]
  },
  {
   "cell_type": "code",
   "execution_count": null,
   "id": "careful-fisher",
   "metadata": {
    "scrolled": true
   },
   "outputs": [],
   "source": [
    "data_generator = DataGenerator(df, dataset_dict, cfgs.HYPERPARAMS.TEST_SPLIT, cfgs.HYPERPARAMS.VAL_SPLIT, cfgs.IMAGE.RESOLUTION)\n",
    "data_generator.df.head()"
   ]
  },
  {
   "cell_type": "code",
   "execution_count": null,
   "id": "military-heater",
   "metadata": {},
   "outputs": [],
   "source": [
    "train_idx, valid_idx, test_idx = data_generator.split_dataset() "
   ]
  },
  {
   "cell_type": "markdown",
   "id": "transsexual-error",
   "metadata": {},
   "source": [
    "## Build and compile model"
   ]
  },
  {
   "cell_type": "code",
   "execution_count": null,
   "id": "processed-duration",
   "metadata": {},
   "outputs": [],
   "source": [
    "from tensorflow.keras.optimizers import Adam\n",
    "from tensorflow import keras\n",
    "from model.architecture import MultiOutputModel"
   ]
  },
  {
   "cell_type": "code",
   "execution_count": null,
   "id": "working-cursor",
   "metadata": {},
   "outputs": [],
   "source": [
    "structure = cfgs.MODEL.STRUCTURE[0]\n",
    "content_model = MultiOutputModel(*cfgs.IMAGE.RESOLUTION, structure)\n",
    "content_model.build_model(\"InceptionV3\")\n",
    "# keras.utils.plot_model(content_model.model, show_shapes=True)"
   ]
  },
  {
   "cell_type": "code",
   "execution_count": null,
   "id": "assigned-influence",
   "metadata": {},
   "outputs": [],
   "source": [
    "# opt = SGD()\n",
    "opt = Adam(lr=cfgs.HYPERPARAMS.LR, decay=cfgs.HYPERPARAMS.LR/cfgs.HYPERPARAMS.EPOCHS)\n",
    "content_model.compile_model(opt)\n",
    "content_model.model.summary()"
   ]
  },
  {
   "cell_type": "markdown",
   "id": "raising-belize",
   "metadata": {},
   "source": [
    "## Train Model"
   ]
  },
  {
   "cell_type": "code",
   "execution_count": null,
   "id": "radical-brand",
   "metadata": {},
   "outputs": [],
   "source": [
    "from tensorflow.keras.callbacks import ModelCheckpoint\n",
    "from tensorflow.keras.backend import clear_session\n",
    "import tensorflow as tf"
   ]
  },
  {
   "cell_type": "code",
   "execution_count": null,
   "id": "civic-wellington",
   "metadata": {},
   "outputs": [],
   "source": [
    "config = tf.compat.v1.ConfigProto()\n",
    "config.gpu_options.allow_growth = True\n",
    "sess = tf.compat.v1.Session(config=config)\n",
    "tf.compat.v1.keras.backend.set_session(sess)\n",
    "\n",
    "# GPU check - CUDA 11.1 with cuDNN 8.05 on 460.39 - GTX 1060 6GB\n",
    "print(tf.test.is_built_with_cuda())\n",
    "print(tf.config.list_physical_devices('GPU'))\n",
    "\n",
    "clear_session()"
   ]
  },
  {
   "cell_type": "code",
   "execution_count": null,
   "id": "ready-surfing",
   "metadata": {},
   "outputs": [],
   "source": [
    "tr_generator = data_generator.generate_images(train_idx, cfgs.HYPERPARAMS.BATCH_SIZE_TR, True)\n",
    "val_generator = data_generator.generate_images(valid_idx, cfgs.HYPERPARAMS.BATCH_SIZE_VAL, True)"
   ]
  },
  {
   "cell_type": "code",
   "execution_count": null,
   "id": "underlying-infrastructure",
   "metadata": {},
   "outputs": [],
   "source": [
    "import datetime\n",
    "\n",
    "%load_ext tensorboard\n",
    "log_dir = log_dir = \"./logs/\" + datetime.datetime.now().strftime(\"%Y%m%d-%H%M%S\")\n",
    "\n",
    "callbacks = [keras.callbacks.TensorBoard(log_dir=log_dir, histogram_freq=0)]\n",
    "# keras.callbacks.ModelCheckpoint('./checkpoints', monitor='val_loss', verbose=0, \n",
    "#                                              save_best_only=False, save_weights_only=False, \n",
    "#                                              mode='auto', save_freq='epoch')"
   ]
  },
  {
   "cell_type": "code",
   "execution_count": null,
   "id": "present-beijing",
   "metadata": {},
   "outputs": [],
   "source": [
    "%%time\n",
    "history = content_model.model.fit(tr_generator, \n",
    "                    steps_per_epoch=len(train_idx)//cfgs.HYPERPARAMS.BATCH_SIZE_TR,\n",
    "                    epochs=cfgs.HYPERPARAMS.EPOCHS,\n",
    "                    callbacks=callbacks,\n",
    "                    validation_data=val_generator,\n",
    "                    validation_steps=len(valid_idx)//cfgs.HYPERPARAMS.BATCH_SIZE_VAL)"
   ]
  },
  {
   "cell_type": "markdown",
   "id": "civic-absence",
   "metadata": {},
   "source": [
    "## TensorBoard"
   ]
  },
  {
   "cell_type": "code",
   "execution_count": null,
   "id": "seventh-halloween",
   "metadata": {},
   "outputs": [],
   "source": [
    "%tensorboard --logdir logs"
   ]
  },
  {
   "cell_type": "code",
   "execution_count": null,
   "id": "neither-writing",
   "metadata": {},
   "outputs": [],
   "source": [
    "content_model.model.save(\"Model_v5\")"
   ]
  },
  {
   "cell_type": "markdown",
   "id": "iraqi-antibody",
   "metadata": {},
   "source": [
    "## Test set"
   ]
  },
  {
   "cell_type": "code",
   "execution_count": null,
   "id": "automated-flavor",
   "metadata": {},
   "outputs": [],
   "source": [
    "import numpy as np"
   ]
  },
  {
   "cell_type": "code",
   "execution_count": null,
   "id": "printable-vitamin",
   "metadata": {},
   "outputs": [],
   "source": [
    "t_gen = data_generator.generate_images(test_idx, cfgs.HYPERPARAMS.BATCH_SIZE_TEST, False)\n",
    "genre_inf = content_model.model.predict(t_gen, steps=len(test_idx)//cfgs.HYPERPARAMS.BATCH_SIZE_TEST)\n",
    "\n",
    "genres_pred = genre_inf.argmax(axis=-1)"
   ]
  },
  {
   "cell_type": "code",
   "execution_count": null,
   "id": "scheduled-undergraduate",
   "metadata": {},
   "outputs": [],
   "source": [
    "genres_true = data_generator.generate_truth(test_idx, cfgs.HYPERPARAMS.BATCH_SIZE_TEST)"
   ]
  },
  {
   "cell_type": "code",
   "execution_count": null,
   "id": "comparable-emphasis",
   "metadata": {},
   "outputs": [],
   "source": [
    "from sklearn.metrics import classification_report"
   ]
  },
  {
   "cell_type": "code",
   "execution_count": null,
   "id": "liberal-imperial",
   "metadata": {},
   "outputs": [],
   "source": [
    "cr_genre = classification_report(genres_true, genres_pred, target_names=dataset_dict['Genre_alias'].keys())\n",
    "print(cr_genre)"
   ]
  },
  {
   "cell_type": "code",
   "execution_count": null,
   "id": "statutory-blake",
   "metadata": {},
   "outputs": [],
   "source": [
    "from sklearn.metrics import r2_score\n",
    "print('R2 score for ratings: ', r2_score(ratings_true, ratings_pred))"
   ]
  }
 ],
 "metadata": {
  "kernelspec": {
   "display_name": "Python 3",
   "language": "python",
   "name": "python3"
  },
  "language_info": {
   "codemirror_mode": {
    "name": "ipython",
    "version": 3
   },
   "file_extension": ".py",
   "mimetype": "text/x-python",
   "name": "python",
   "nbconvert_exporter": "python",
   "pygments_lexer": "ipython3",
   "version": "3.8.5"
  }
 },
 "nbformat": 4,
 "nbformat_minor": 5
}
